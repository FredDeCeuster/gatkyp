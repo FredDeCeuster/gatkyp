{
 "cells": [
  {
   "cell_type": "markdown",
   "metadata": {
    "slideshow": {
     "slide_type": "skip"
    }
   },
   "source": [
    "To run the presentation run:"
   ]
  },
  {
   "cell_type": "code",
   "execution_count": 1,
   "metadata": {
    "slideshow": {
     "slide_type": "skip"
    }
   },
   "outputs": [
    {
     "name": "stdout",
     "output_type": "stream",
     "text": [
      "[NbConvertApp] Converting notebook slides_2019-09-20.ipynb to slides\n",
      "[NbConvertApp] Writing 363918 bytes to slides_2019-09-20.slides.html\n"
     ]
    }
   ],
   "source": [
    "! jupyter nbconvert slides_2019-09-20.ipynb --to slides"
   ]
  },
  {
   "cell_type": "markdown",
   "metadata": {
    "slideshow": {
     "slide_type": "skip"
    }
   },
   "source": [
    "---"
   ]
  },
  {
   "cell_type": "markdown",
   "metadata": {
    "slideshow": {
     "slide_type": "slide"
    }
   },
   "source": [
    "# __GeTKYP__   2019-09-20\n",
    "---\n",
    "<br></br>\n",
    "# Software Productivity and Performance\n",
    "<br></br>\n",
    "## _Continuing Jels' legacy_"
   ]
  },
  {
   "cell_type": "markdown",
   "metadata": {
    "slideshow": {
     "slide_type": "slide"
    }
   },
   "source": [
    "# Things you need to hear at least once\n",
    "---"
   ]
  },
  {
   "cell_type": "markdown",
   "metadata": {
    "slideshow": {
     "slide_type": "fragment"
    }
   },
   "source": [
    "## - _Code is meant for humans, not computers_"
   ]
  },
  {
   "cell_type": "markdown",
   "metadata": {
    "slideshow": {
     "slide_type": "fragment"
    }
   },
   "source": [
    "## - _Premature optimisation is the root of all evil_"
   ]
  },
  {
   "cell_type": "markdown",
   "metadata": {
    "slideshow": {
     "slide_type": "fragment"
    }
   },
   "source": [
    "## - _Howver, never \"intentionally\" write bad code_"
   ]
  },
  {
   "cell_type": "markdown",
   "metadata": {
    "slideshow": {
     "slide_type": "slide"
    }
   },
   "source": [
    "# The book\n",
    "---\n",
    "<br></br>\n",
    "## __Python High Performance__\n",
    "### Second edition\n",
    "## Gabriele Lanaro\n",
    "<br></br>"
   ]
  },
  {
   "cell_type": "markdown",
   "metadata": {
    "slideshow": {
     "slide_type": "fragment"
    }
   },
   "source": [
    "## _\"Skip the first few chapters...\"_\n",
    "## _\"Do something on the last chapters about concurrency\"_"
   ]
  },
  {
   "cell_type": "markdown",
   "metadata": {
    "slideshow": {
     "slide_type": "slide"
    }
   },
   "source": [
    "# Step 0\n",
    "---\n",
    "<br></br>\n",
    "## __Get your code to work properly__\n"
   ]
  },
  {
   "cell_type": "markdown",
   "metadata": {
    "slideshow": {
     "slide_type": "slide"
    }
   },
   "source": [
    "# Step 1\n",
    "---\n",
    "<br></br>\n",
    "## __Check step 0__"
   ]
  },
  {
   "cell_type": "markdown",
   "metadata": {
    "slideshow": {
     "slide_type": "slide"
    }
   },
   "source": [
    "# Step 1\n",
    "---\n",
    "<br></br>\n",
    "## __Write Tests and Benchmarks__"
   ]
  },
  {
   "cell_type": "markdown",
   "metadata": {
    "slideshow": {
     "slide_type": "slide"
    }
   },
   "source": [
    "# Step 1\n",
    "---\n",
    "<br></br>\n",
    "## Who is using git?\n",
    "## Who is using Travis CI (or Jenkins, or...)?\n",
    "## Who is using Anaconda?"
   ]
  },
  {
   "cell_type": "markdown",
   "metadata": {
    "slideshow": {
     "slide_type": "slide"
    }
   },
   "source": [
    "# Anaconda and reproducibility\n",
    "---\n",
    "<br></br>\n",
    "You can easily recreate your environment on another machine!\n",
    "```\n",
    "conda list --explicit > spec-file.txt\n",
    "```\n",
    "<br></br>\n",
    "```\n",
    "conda create --name myenv --file spec-file.txt\n",
    "```\n",
    "<br></br>\n",
    "```\n",
    "conda install --name myenv --file spec-file.txt\n",
    "```"
   ]
  },
  {
   "cell_type": "markdown",
   "metadata": {
    "slideshow": {
     "slide_type": "slide"
    }
   },
   "source": [
    "# Layers of parallelism\n",
    "---\n",
    "<br></br>\n",
    "## 0 : __Instruction-level__ parallelism\n",
    "## 1 : __Vector__ architectures and __SIMD__-instructions (GPU)\n",
    "## 2 : __Thread-level__ parallelism (only shared memory)\n",
    "## 3 : __Request-level__ parallelism (also distributed memory)"
   ]
  },
  {
   "cell_type": "markdown",
   "metadata": {
    "slideshow": {
     "slide_type": "slide"
    }
   },
   "source": [
    "# A simple example using mpi4py\n",
    "---\n",
    "<br></br>\n",
    "(See also the [documentation](https://mpi4py.readthedocs.io/en/stable/)!)\n",
    "<br></br>\n",
    "Install with [conda](https://www.anaconda.com/distribution/) (as you should!)\n",
    "<br></br>\n",
    "```\n",
    "conda install -c anaconda mpi4py\n",
    "```\n",
    "<br></br>\n",
    "__WARNING:__ Conda can \"cripple\" itself in doing so (see [issue 5454](https://github.com/conda/conda/issues/5454))\n",
    "<br></br>\n",
    "__Note:__ Currently only available for python versions 2.7, 3.3, 3.4 and 3.5\n",
    "<br></br>\n",
    "```\n",
    "conda create --name py35env python=3.5\n",
    "```\n",
    "```\n",
    "conda activate py35env\n",
    "```"
   ]
  },
  {
   "cell_type": "markdown",
   "metadata": {
    "slideshow": {
     "slide_type": "slide"
    }
   },
   "source": [
    "# The simplest MPI script\n",
    "---\n",
    "<br></br>\n",
    "Contents of `show_process.py`\n",
    "<br></br>\n",
    "```python\n",
    "from mpi4py import MPI\n",
    "\n",
    "comm  = MPI.COMM_WORLD\n",
    "rank  = comm.Get_rank()\n",
    "nproc = comm.Get_size()\n",
    "\n",
    "print(\"This is process\", rank)\n",
    "```"
   ]
  },
  {
   "cell_type": "markdown",
   "metadata": {
    "slideshow": {
     "slide_type": "slide"
    }
   },
   "source": [
    "# The simplest MPI script\n",
    "---\n",
    "<br></br>"
   ]
  },
  {
   "cell_type": "code",
   "execution_count": 1,
   "metadata": {
    "slideshow": {
     "slide_type": "fragment"
    }
   },
   "outputs": [
    {
     "name": "stdout",
     "output_type": "stream",
     "text": [
      "This is process 0\n"
     ]
    }
   ],
   "source": [
    "! python show_process.py"
   ]
  },
  {
   "cell_type": "code",
   "execution_count": 2,
   "metadata": {
    "slideshow": {
     "slide_type": "fragment"
    }
   },
   "outputs": [
    {
     "name": "stdout",
     "output_type": "stream",
     "text": [
      "This is process 1\n",
      "This is process 0\n"
     ]
    }
   ],
   "source": [
    "! mpiexec -n 2 python show_process.py"
   ]
  },
  {
   "cell_type": "code",
   "execution_count": 3,
   "metadata": {
    "slideshow": {
     "slide_type": "fragment"
    }
   },
   "outputs": [
    {
     "name": "stdout",
     "output_type": "stream",
     "text": [
      "This is process 1\n",
      "This is process 2\n",
      "This is process 0\n"
     ]
    }
   ],
   "source": [
    "! mpiexec -n 3 python show_process.py"
   ]
  },
  {
   "cell_type": "markdown",
   "metadata": {
    "slideshow": {
     "slide_type": "fragment"
    }
   },
   "source": [
    "🤓 Note: prefer `mpiexec` over `mpirun` as the former is standerdized in the MPI standard."
   ]
  },
  {
   "cell_type": "markdown",
   "metadata": {
    "slideshow": {
     "slide_type": "slide"
    }
   },
   "source": [
    "# Simple loop\n",
    "---\n",
    "<br></br>\n",
    "Contents of `simple_loop.py`\n",
    "<br></br>\n",
    "```python\n",
    "from mpi4py import MPI\n",
    "\n",
    "comm  = MPI.COMM_WORLD\n",
    "rank  = comm.Get_rank()\n",
    "nproc = comm.Get_size()\n",
    "\n",
    "arr = [1,2,3,4,5,6,7,8]\n",
    "\n",
    "for i in range(rank, total, nproc):\n",
    "    print('proc', rank, 'does number', i)\n",
    "```"
   ]
  },
  {
   "cell_type": "markdown",
   "metadata": {
    "slideshow": {
     "slide_type": "slide"
    }
   },
   "source": [
    "# Simple loop\n",
    "---\n",
    "<br></br>"
   ]
  },
  {
   "cell_type": "code",
   "execution_count": 5,
   "metadata": {
    "slideshow": {
     "slide_type": "fragment"
    }
   },
   "outputs": [
    {
     "name": "stdout",
     "output_type": "stream",
     "text": [
      "proc 0 does number 0\n",
      "proc 0 does number 1\n",
      "proc 0 does number 2\n",
      "proc 0 does number 3\n",
      "proc 0 does number 4\n",
      "proc 0 does number 5\n",
      "proc 0 does number 6\n",
      "proc 0 does number 7\n"
     ]
    }
   ],
   "source": [
    "! python simple_loop.py"
   ]
  },
  {
   "cell_type": "code",
   "execution_count": 7,
   "metadata": {
    "slideshow": {
     "slide_type": "fragment"
    }
   },
   "outputs": [
    {
     "name": "stdout",
     "output_type": "stream",
     "text": [
      "proc 0 does number 0\n",
      "proc 0 does number 2\n",
      "proc 0 does number 4\n",
      "proc 0 does number 6\n",
      "proc 1 does number 1\n",
      "proc 1 does number 3\n",
      "proc 1 does number 5\n",
      "proc 1 does number 7\n"
     ]
    }
   ],
   "source": [
    "! mpiexec -n 2 python simple_loop.py"
   ]
  },
  {
   "cell_type": "code",
   "execution_count": 8,
   "metadata": {
    "slideshow": {
     "slide_type": "fragment"
    }
   },
   "outputs": [
    {
     "name": "stdout",
     "output_type": "stream",
     "text": [
      "proc 0 does number 0\n",
      "proc 0 does number 3\n",
      "proc 0 does number 6\n",
      "proc 2 does number 2\n",
      "proc 2 does number 5\n",
      "proc 1 does number 1\n",
      "proc 1 does number 4\n",
      "proc 1 does number 7\n"
     ]
    }
   ],
   "source": [
    "! mpiexec -n 3 python simple_loop.py"
   ]
  },
  {
   "cell_type": "code",
   "execution_count": 5,
   "metadata": {},
   "outputs": [],
   "source": [
    "def complicated_blackbox_function ():\n",
    "    '''\n",
    "    Just a stupid function that takes a while to execute.\n",
    "    '''\n",
    "    N = int(1.0E+7)\n",
    "    while (N > 0):\n",
    "        N -= 1\n",
    "    return N"
   ]
  },
  {
   "cell_type": "code",
   "execution_count": 6,
   "metadata": {},
   "outputs": [
    {
     "name": "stdout",
     "output_type": "stream",
     "text": [
      "394 ms ± 12.5 ms per loop (mean ± std. dev. of 7 runs, 1 loop each)\n"
     ]
    }
   ],
   "source": [
    "%timeit complicated_blackbox_function()"
   ]
  },
  {
   "cell_type": "code",
   "execution_count": null,
   "metadata": {},
   "outputs": [],
   "source": []
  }
 ],
 "metadata": {
  "kernelspec": {
   "display_name": "Python 3",
   "language": "python",
   "name": "python3"
  },
  "language_info": {
   "codemirror_mode": {
    "name": "ipython",
    "version": 3
   },
   "file_extension": ".py",
   "mimetype": "text/x-python",
   "name": "python",
   "nbconvert_exporter": "python",
   "pygments_lexer": "ipython3",
   "version": "3.5.6"
  }
 },
 "nbformat": 4,
 "nbformat_minor": 4
}
